{
 "cells": [
  {
   "cell_type": "markdown",
   "id": "28d07c85",
   "metadata": {},
   "source": []
  },
  {
   "cell_type": "code",
   "execution_count": null,
   "id": "72353466",
   "metadata": {},
   "outputs": [],
   "source": [
    "import matplotlib.pyplot as plt\n",
    "import numpy as np\n",
    "from scipy.stats import norm\n",
    "import pandas as pd\n",
    "import seaborn as sns\n",
    "import datetime"
   ]
  },
  {
   "cell_type": "code",
   "execution_count": null,
   "id": "3d807c4e",
   "metadata": {},
   "outputs": [],
   "source": [
    "# Constants for all models\n",
    "S_0 = 1.20  # Spot price in dollars\n",
    "r = 0.02    # Risk-free rate (2%)\n",
    "T = 0.5     # Time to maturity in years\n",
    "sigma = 0.25  # Volatility (25%)\n",
    "d = 0.01    # Storage cost (1%)\n",
    "X = 1.25    # Strike price for the option"
   ]
  },
  {
   "cell_type": "code",
   "execution_count": null,
   "id": "ed0b6de9",
   "metadata": {},
   "outputs": [],
   "source": [
    "# === 1. Cost of Carry Futures Pricing ===\n",
    "F_t = S_0 * np.exp((r + d) * T)"
   ]
  },
  {
   "cell_type": "code",
   "execution_count": null,
   "id": "82e12e3d",
   "metadata": {},
   "outputs": [],
   "source": [
    "# === 2. Black-Scholes Call Option Pricing on Futures ===\n",
    "d1 = (np.log(S_0 / X) + (r + 0.5 * sigma ** 2) * T) / (sigma * np.sqrt(T))\n",
    "d2 = d1 - sigma * np.sqrt(T)\n",
    "C = S_0 * norm.cdf(d1) - X * np.exp(-r * T) * norm.cdf(d2)"
   ]
  },
  {
   "cell_type": "code",
   "execution_count": null,
   "id": "78079367",
   "metadata": {},
   "outputs": [],
   "source": [
    "# === 3. Monte Carlo Simulation for Coffee Futures ===\n",
    "num_simulations = 10000\n",
    "num_steps = 252\n",
    "dt = T / num_steps\n",
    "np.random.seed(42)\n",
    "price_paths = np.zeros((num_steps, num_simulations))\n",
    "price_paths[0] = S_0\n",
    "\n",
    "for t in range(1, num_steps):\n",
    "    z = np.random.standard_normal(num_simulations)\n",
    "    price_paths[t] = price_paths[t-1] * np.exp((r - 0.5 * sigma**2) * dt + sigma * np.sqrt(dt) * z)\n",
    "\n",
    "average_simulated_price = np.mean(price_paths[-1])\n",
    "\n",
    "import ace_tools as tools; tools.display_dataframe_to_user(name=\"Monte Carlo Simulated Final Prices\", dataframe=pd.DataFrame(price_paths[-1], columns=[\"Final Price\"]))\n",
    "\n",
    "F_t, C, average_simulated_price"
   ]
  },
  {
   "cell_type": "code",
   "execution_count": 2,
   "id": "f7faf970",
   "metadata": {},
   "outputs": [
    {
     "name": "stdout",
     "output_type": "stream",
     "text": [
      "Requirement already satisfied: yfinance in /Users/atheeshkrishnan/anaconda3/lib/python3.11/site-packages (0.2.54)\n",
      "Requirement already satisfied: pandas_datareader in /Users/atheeshkrishnan/anaconda3/lib/python3.11/site-packages (0.10.0)\n",
      "Requirement already satisfied: numpy in /Users/atheeshkrishnan/anaconda3/lib/python3.11/site-packages (1.24.3)\n",
      "Requirement already satisfied: scipy in /Users/atheeshkrishnan/anaconda3/lib/python3.11/site-packages (1.11.1)\n",
      "Requirement already satisfied: matplotlib in /Users/atheeshkrishnan/anaconda3/lib/python3.11/site-packages (3.7.2)\n",
      "Requirement already satisfied: pandas>=1.3.0 in /Users/atheeshkrishnan/anaconda3/lib/python3.11/site-packages (from yfinance) (2.0.3)\n",
      "Requirement already satisfied: requests>=2.31 in /Users/atheeshkrishnan/anaconda3/lib/python3.11/site-packages (from yfinance) (2.31.0)\n",
      "Requirement already satisfied: multitasking>=0.0.7 in /Users/atheeshkrishnan/anaconda3/lib/python3.11/site-packages (from yfinance) (0.0.11)\n",
      "Requirement already satisfied: platformdirs>=2.0.0 in /Users/atheeshkrishnan/anaconda3/lib/python3.11/site-packages (from yfinance) (3.10.0)\n",
      "Requirement already satisfied: pytz>=2022.5 in /Users/atheeshkrishnan/anaconda3/lib/python3.11/site-packages (from yfinance) (2023.3.post1)\n",
      "Requirement already satisfied: frozendict>=2.3.4 in /Users/atheeshkrishnan/anaconda3/lib/python3.11/site-packages (from yfinance) (2.4.6)\n",
      "Requirement already satisfied: peewee>=3.16.2 in /Users/atheeshkrishnan/anaconda3/lib/python3.11/site-packages (from yfinance) (3.17.7)\n",
      "Requirement already satisfied: beautifulsoup4>=4.11.1 in /Users/atheeshkrishnan/anaconda3/lib/python3.11/site-packages (from yfinance) (4.12.2)\n",
      "Requirement already satisfied: lxml in /Users/atheeshkrishnan/anaconda3/lib/python3.11/site-packages (from pandas_datareader) (4.9.3)\n",
      "Requirement already satisfied: contourpy>=1.0.1 in /Users/atheeshkrishnan/anaconda3/lib/python3.11/site-packages (from matplotlib) (1.0.5)\n",
      "Requirement already satisfied: cycler>=0.10 in /Users/atheeshkrishnan/anaconda3/lib/python3.11/site-packages (from matplotlib) (0.11.0)\n",
      "Requirement already satisfied: fonttools>=4.22.0 in /Users/atheeshkrishnan/anaconda3/lib/python3.11/site-packages (from matplotlib) (4.25.0)\n",
      "Requirement already satisfied: kiwisolver>=1.0.1 in /Users/atheeshkrishnan/anaconda3/lib/python3.11/site-packages (from matplotlib) (1.4.4)\n",
      "Requirement already satisfied: packaging>=20.0 in /Users/atheeshkrishnan/anaconda3/lib/python3.11/site-packages (from matplotlib) (23.1)\n",
      "Requirement already satisfied: pillow>=6.2.0 in /Users/atheeshkrishnan/anaconda3/lib/python3.11/site-packages (from matplotlib) (10.0.1)\n",
      "Requirement already satisfied: pyparsing<3.1,>=2.3.1 in /Users/atheeshkrishnan/anaconda3/lib/python3.11/site-packages (from matplotlib) (3.0.9)\n",
      "Requirement already satisfied: python-dateutil>=2.7 in /Users/atheeshkrishnan/anaconda3/lib/python3.11/site-packages (from matplotlib) (2.8.2)\n",
      "Requirement already satisfied: soupsieve>1.2 in /Users/atheeshkrishnan/anaconda3/lib/python3.11/site-packages (from beautifulsoup4>=4.11.1->yfinance) (2.4)\n",
      "Requirement already satisfied: tzdata>=2022.1 in /Users/atheeshkrishnan/anaconda3/lib/python3.11/site-packages (from pandas>=1.3.0->yfinance) (2023.3)\n",
      "Requirement already satisfied: six>=1.5 in /Users/atheeshkrishnan/anaconda3/lib/python3.11/site-packages (from python-dateutil>=2.7->matplotlib) (1.16.0)\n",
      "Requirement already satisfied: charset-normalizer<4,>=2 in /Users/atheeshkrishnan/anaconda3/lib/python3.11/site-packages (from requests>=2.31->yfinance) (2.0.4)\n",
      "Requirement already satisfied: idna<4,>=2.5 in /Users/atheeshkrishnan/anaconda3/lib/python3.11/site-packages (from requests>=2.31->yfinance) (3.4)\n",
      "Requirement already satisfied: urllib3<3,>=1.21.1 in /Users/atheeshkrishnan/anaconda3/lib/python3.11/site-packages (from requests>=2.31->yfinance) (1.26.16)\n",
      "Requirement already satisfied: certifi>=2017.4.17 in /Users/atheeshkrishnan/anaconda3/lib/python3.11/site-packages (from requests>=2.31->yfinance) (2024.2.2)\n"
     ]
    }
   ],
   "source": [
    "! pip install yfinance pandas_datareader numpy scipy matplotlib"
   ]
  }
 ],
 "metadata": {
  "kernelspec": {
   "display_name": "base",
   "language": "python",
   "name": "python3"
  },
  "language_info": {
   "codemirror_mode": {
    "name": "ipython",
    "version": 3
   },
   "file_extension": ".py",
   "mimetype": "text/x-python",
   "name": "python",
   "nbconvert_exporter": "python",
   "pygments_lexer": "ipython3",
   "version": "3.11.5"
  }
 },
 "nbformat": 4,
 "nbformat_minor": 5
}
